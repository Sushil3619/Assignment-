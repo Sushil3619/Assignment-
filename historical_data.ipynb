{
 "cells": [
  {
   "cell_type": "code",
   "execution_count": 4,
   "id": "465b609d-36a3-4149-9279-9f501b6c50f6",
   "metadata": {},
   "outputs": [],
   "source": [
    "import pandas as pd\n",
    "import numpy as np\n",
    "import matplotlib.pyplot as plt\n",
    "import seaborn as sns\n"
   ]
  },
  {
   "cell_type": "markdown",
   "id": "fc62df43-265e-4520-a13c-c9c5258ab5bb",
   "metadata": {},
   "source": [
    "# 1. DATA LOADING & PREPROCESSING"
   ]
  },
  {
   "cell_type": "code",
   "execution_count": 5,
   "id": "06056a14-fbd9-46e0-b38b-2b7019e33d62",
   "metadata": {},
   "outputs": [
    {
     "data": {
      "text/html": [
       "<div>\n",
       "<style scoped>\n",
       "    .dataframe tbody tr th:only-of-type {\n",
       "        vertical-align: middle;\n",
       "    }\n",
       "\n",
       "    .dataframe tbody tr th {\n",
       "        vertical-align: top;\n",
       "    }\n",
       "\n",
       "    .dataframe thead th {\n",
       "        text-align: right;\n",
       "    }\n",
       "</style>\n",
       "<table border=\"1\" class=\"dataframe\">\n",
       "  <thead>\n",
       "    <tr style=\"text-align: right;\">\n",
       "      <th></th>\n",
       "      <th>Account</th>\n",
       "      <th>Coin</th>\n",
       "      <th>Execution Price</th>\n",
       "      <th>Size Tokens</th>\n",
       "      <th>Size USD</th>\n",
       "      <th>Side</th>\n",
       "      <th>Timestamp IST</th>\n",
       "      <th>Start Position</th>\n",
       "      <th>Direction</th>\n",
       "      <th>Closed PnL</th>\n",
       "      <th>Transaction Hash</th>\n",
       "      <th>Order ID</th>\n",
       "      <th>Crossed</th>\n",
       "      <th>Fee</th>\n",
       "      <th>Trade ID</th>\n",
       "      <th>Timestamp</th>\n",
       "    </tr>\n",
       "  </thead>\n",
       "  <tbody>\n",
       "    <tr>\n",
       "      <th>211214</th>\n",
       "      <td>0x72743ae2822edd658c0c50608fd7c5c501b2afbd</td>\n",
       "      <td>FARTCOIN</td>\n",
       "      <td>1.101</td>\n",
       "      <td>1834.2</td>\n",
       "      <td>2019.45</td>\n",
       "      <td>SELL</td>\n",
       "      <td>25-04-2025 15:35</td>\n",
       "      <td>15955.1</td>\n",
       "      <td>Close Long</td>\n",
       "      <td>-97.2126</td>\n",
       "      <td>0x91ee3ee2673d3bb5da6a0422374d8c02032e0085d8eb...</td>\n",
       "      <td>88803313862</td>\n",
       "      <td>False</td>\n",
       "      <td>0.201945</td>\n",
       "      <td>3.010000e+14</td>\n",
       "      <td>1.750000e+12</td>\n",
       "    </tr>\n",
       "    <tr>\n",
       "      <th>211215</th>\n",
       "      <td>0x72743ae2822edd658c0c50608fd7c5c501b2afbd</td>\n",
       "      <td>FARTCOIN</td>\n",
       "      <td>1.101</td>\n",
       "      <td>2763.7</td>\n",
       "      <td>3042.83</td>\n",
       "      <td>SELL</td>\n",
       "      <td>25-04-2025 15:35</td>\n",
       "      <td>14120.9</td>\n",
       "      <td>Close Long</td>\n",
       "      <td>-146.4761</td>\n",
       "      <td>0xe12bbe92acbb41685b310422374d8c02032f001b8cca...</td>\n",
       "      <td>88803313862</td>\n",
       "      <td>False</td>\n",
       "      <td>0.304283</td>\n",
       "      <td>1.090000e+15</td>\n",
       "      <td>1.750000e+12</td>\n",
       "    </tr>\n",
       "    <tr>\n",
       "      <th>211216</th>\n",
       "      <td>0x72743ae2822edd658c0c50608fd7c5c501b2afbd</td>\n",
       "      <td>FARTCOIN</td>\n",
       "      <td>1.101</td>\n",
       "      <td>2518.5</td>\n",
       "      <td>2772.87</td>\n",
       "      <td>SELL</td>\n",
       "      <td>25-04-2025 15:35</td>\n",
       "      <td>11357.2</td>\n",
       "      <td>Close Long</td>\n",
       "      <td>-133.4805</td>\n",
       "      <td>0xe7847dc3b4513b1a6fc30422374d8c0203300046c97c...</td>\n",
       "      <td>88803313862</td>\n",
       "      <td>False</td>\n",
       "      <td>0.277286</td>\n",
       "      <td>1.360000e+14</td>\n",
       "      <td>1.750000e+12</td>\n",
       "    </tr>\n",
       "    <tr>\n",
       "      <th>211217</th>\n",
       "      <td>0x72743ae2822edd658c0c50608fd7c5c501b2afbd</td>\n",
       "      <td>FARTCOIN</td>\n",
       "      <td>1.101</td>\n",
       "      <td>1064.2</td>\n",
       "      <td>1171.68</td>\n",
       "      <td>SELL</td>\n",
       "      <td>25-04-2025 15:35</td>\n",
       "      <td>8838.7</td>\n",
       "      <td>Close Long</td>\n",
       "      <td>-56.4026</td>\n",
       "      <td>0x69083c7e09f93eaaa08a0422374d8e02026e00389c33...</td>\n",
       "      <td>88803313862</td>\n",
       "      <td>False</td>\n",
       "      <td>0.117168</td>\n",
       "      <td>1.850000e+14</td>\n",
       "      <td>1.750000e+12</td>\n",
       "    </tr>\n",
       "    <tr>\n",
       "      <th>211218</th>\n",
       "      <td>0x72743ae2822edd658c0c50608fd7c5c501b2afbd</td>\n",
       "      <td>FARTCOIN</td>\n",
       "      <td>1.101</td>\n",
       "      <td>227.9</td>\n",
       "      <td>250.92</td>\n",
       "      <td>SELL</td>\n",
       "      <td>25-04-2025 15:35</td>\n",
       "      <td>7774.5</td>\n",
       "      <td>Close Long</td>\n",
       "      <td>-12.0787</td>\n",
       "      <td>0xcf2f22ba82614f04957b0422374d8e020273005c5568...</td>\n",
       "      <td>88803313862</td>\n",
       "      <td>False</td>\n",
       "      <td>0.025091</td>\n",
       "      <td>4.270000e+14</td>\n",
       "      <td>1.750000e+12</td>\n",
       "    </tr>\n",
       "    <tr>\n",
       "      <th>211219</th>\n",
       "      <td>0x72743ae2822edd658c0c50608fd7c5c501b2afbd</td>\n",
       "      <td>FARTCOIN</td>\n",
       "      <td>1.101</td>\n",
       "      <td>382.2</td>\n",
       "      <td>420.80</td>\n",
       "      <td>SELL</td>\n",
       "      <td>25-04-2025 15:35</td>\n",
       "      <td>7546.6</td>\n",
       "      <td>Close Long</td>\n",
       "      <td>-20.2566</td>\n",
       "      <td>0xcd339c08dc7b615a993c0422374d8e02027400092bc2...</td>\n",
       "      <td>88803313862</td>\n",
       "      <td>False</td>\n",
       "      <td>0.042080</td>\n",
       "      <td>1.990000e+14</td>\n",
       "      <td>1.750000e+12</td>\n",
       "    </tr>\n",
       "    <tr>\n",
       "      <th>211220</th>\n",
       "      <td>0x72743ae2822edd658c0c50608fd7c5c501b2afbd</td>\n",
       "      <td>FARTCOIN</td>\n",
       "      <td>1.101</td>\n",
       "      <td>2124.1</td>\n",
       "      <td>2338.63</td>\n",
       "      <td>SELL</td>\n",
       "      <td>25-04-2025 15:35</td>\n",
       "      <td>7164.4</td>\n",
       "      <td>Close Long</td>\n",
       "      <td>-112.5773</td>\n",
       "      <td>0x29e8ede2a3a37aa0eac00422374d8e02029b00ac9f3c...</td>\n",
       "      <td>88803313862</td>\n",
       "      <td>False</td>\n",
       "      <td>0.233863</td>\n",
       "      <td>9.260000e+14</td>\n",
       "      <td>1.750000e+12</td>\n",
       "    </tr>\n",
       "    <tr>\n",
       "      <th>211221</th>\n",
       "      <td>0x72743ae2822edd658c0c50608fd7c5c501b2afbd</td>\n",
       "      <td>FARTCOIN</td>\n",
       "      <td>1.101</td>\n",
       "      <td>423.4</td>\n",
       "      <td>466.16</td>\n",
       "      <td>SELL</td>\n",
       "      <td>25-04-2025 15:35</td>\n",
       "      <td>5040.3</td>\n",
       "      <td>Close Long</td>\n",
       "      <td>-22.4402</td>\n",
       "      <td>0x0780085b0c0a943eea800422374d920204c100edf579...</td>\n",
       "      <td>88803313862</td>\n",
       "      <td>False</td>\n",
       "      <td>0.046616</td>\n",
       "      <td>6.930000e+14</td>\n",
       "      <td>1.750000e+12</td>\n",
       "    </tr>\n",
       "    <tr>\n",
       "      <th>211222</th>\n",
       "      <td>0x72743ae2822edd658c0c50608fd7c5c501b2afbd</td>\n",
       "      <td>FARTCOIN</td>\n",
       "      <td>1.101</td>\n",
       "      <td>3599.8</td>\n",
       "      <td>3963.38</td>\n",
       "      <td>SELL</td>\n",
       "      <td>25-04-2025 15:35</td>\n",
       "      <td>4616.9</td>\n",
       "      <td>Close Long</td>\n",
       "      <td>-190.7894</td>\n",
       "      <td>0x349c29934913b25c89e20422374d920204cd008b8a0e...</td>\n",
       "      <td>88803313862</td>\n",
       "      <td>False</td>\n",
       "      <td>0.396337</td>\n",
       "      <td>4.180000e+14</td>\n",
       "      <td>1.750000e+12</td>\n",
       "    </tr>\n",
       "    <tr>\n",
       "      <th>211223</th>\n",
       "      <td>0x72743ae2822edd658c0c50608fd7c5c501b2afbd</td>\n",
       "      <td>FARTCOIN</td>\n",
       "      <td>1.101</td>\n",
       "      <td>1017.1</td>\n",
       "      <td>1119.83</td>\n",
       "      <td>SELL</td>\n",
       "      <td>25-04-2025 15:35</td>\n",
       "      <td>1017.1</td>\n",
       "      <td>Close Long</td>\n",
       "      <td>-53.9063</td>\n",
       "      <td>0xac77fab973c455d77a670422374d9602039800f1f78c...</td>\n",
       "      <td>88803313862</td>\n",
       "      <td>False</td>\n",
       "      <td>0.111982</td>\n",
       "      <td>3.270000e+14</td>\n",
       "      <td>1.750000e+12</td>\n",
       "    </tr>\n",
       "  </tbody>\n",
       "</table>\n",
       "</div>"
      ],
      "text/plain": [
       "                                           Account      Coin  Execution Price  \\\n",
       "211214  0x72743ae2822edd658c0c50608fd7c5c501b2afbd  FARTCOIN            1.101   \n",
       "211215  0x72743ae2822edd658c0c50608fd7c5c501b2afbd  FARTCOIN            1.101   \n",
       "211216  0x72743ae2822edd658c0c50608fd7c5c501b2afbd  FARTCOIN            1.101   \n",
       "211217  0x72743ae2822edd658c0c50608fd7c5c501b2afbd  FARTCOIN            1.101   \n",
       "211218  0x72743ae2822edd658c0c50608fd7c5c501b2afbd  FARTCOIN            1.101   \n",
       "211219  0x72743ae2822edd658c0c50608fd7c5c501b2afbd  FARTCOIN            1.101   \n",
       "211220  0x72743ae2822edd658c0c50608fd7c5c501b2afbd  FARTCOIN            1.101   \n",
       "211221  0x72743ae2822edd658c0c50608fd7c5c501b2afbd  FARTCOIN            1.101   \n",
       "211222  0x72743ae2822edd658c0c50608fd7c5c501b2afbd  FARTCOIN            1.101   \n",
       "211223  0x72743ae2822edd658c0c50608fd7c5c501b2afbd  FARTCOIN            1.101   \n",
       "\n",
       "        Size Tokens  Size USD  Side     Timestamp IST  Start Position  \\\n",
       "211214       1834.2   2019.45  SELL  25-04-2025 15:35         15955.1   \n",
       "211215       2763.7   3042.83  SELL  25-04-2025 15:35         14120.9   \n",
       "211216       2518.5   2772.87  SELL  25-04-2025 15:35         11357.2   \n",
       "211217       1064.2   1171.68  SELL  25-04-2025 15:35          8838.7   \n",
       "211218        227.9    250.92  SELL  25-04-2025 15:35          7774.5   \n",
       "211219        382.2    420.80  SELL  25-04-2025 15:35          7546.6   \n",
       "211220       2124.1   2338.63  SELL  25-04-2025 15:35          7164.4   \n",
       "211221        423.4    466.16  SELL  25-04-2025 15:35          5040.3   \n",
       "211222       3599.8   3963.38  SELL  25-04-2025 15:35          4616.9   \n",
       "211223       1017.1   1119.83  SELL  25-04-2025 15:35          1017.1   \n",
       "\n",
       "         Direction  Closed PnL  \\\n",
       "211214  Close Long    -97.2126   \n",
       "211215  Close Long   -146.4761   \n",
       "211216  Close Long   -133.4805   \n",
       "211217  Close Long    -56.4026   \n",
       "211218  Close Long    -12.0787   \n",
       "211219  Close Long    -20.2566   \n",
       "211220  Close Long   -112.5773   \n",
       "211221  Close Long    -22.4402   \n",
       "211222  Close Long   -190.7894   \n",
       "211223  Close Long    -53.9063   \n",
       "\n",
       "                                         Transaction Hash     Order ID  \\\n",
       "211214  0x91ee3ee2673d3bb5da6a0422374d8c02032e0085d8eb...  88803313862   \n",
       "211215  0xe12bbe92acbb41685b310422374d8c02032f001b8cca...  88803313862   \n",
       "211216  0xe7847dc3b4513b1a6fc30422374d8c0203300046c97c...  88803313862   \n",
       "211217  0x69083c7e09f93eaaa08a0422374d8e02026e00389c33...  88803313862   \n",
       "211218  0xcf2f22ba82614f04957b0422374d8e020273005c5568...  88803313862   \n",
       "211219  0xcd339c08dc7b615a993c0422374d8e02027400092bc2...  88803313862   \n",
       "211220  0x29e8ede2a3a37aa0eac00422374d8e02029b00ac9f3c...  88803313862   \n",
       "211221  0x0780085b0c0a943eea800422374d920204c100edf579...  88803313862   \n",
       "211222  0x349c29934913b25c89e20422374d920204cd008b8a0e...  88803313862   \n",
       "211223  0xac77fab973c455d77a670422374d9602039800f1f78c...  88803313862   \n",
       "\n",
       "        Crossed       Fee      Trade ID     Timestamp  \n",
       "211214    False  0.201945  3.010000e+14  1.750000e+12  \n",
       "211215    False  0.304283  1.090000e+15  1.750000e+12  \n",
       "211216    False  0.277286  1.360000e+14  1.750000e+12  \n",
       "211217    False  0.117168  1.850000e+14  1.750000e+12  \n",
       "211218    False  0.025091  4.270000e+14  1.750000e+12  \n",
       "211219    False  0.042080  1.990000e+14  1.750000e+12  \n",
       "211220    False  0.233863  9.260000e+14  1.750000e+12  \n",
       "211221    False  0.046616  6.930000e+14  1.750000e+12  \n",
       "211222    False  0.396337  4.180000e+14  1.750000e+12  \n",
       "211223    False  0.111982  3.270000e+14  1.750000e+12  "
      ]
     },
     "execution_count": 5,
     "metadata": {},
     "output_type": "execute_result"
    }
   ],
   "source": [
    "df= pd.read_csv('historical_data.csv')\n",
    "df.tail(10)"
   ]
  },
  {
   "cell_type": "code",
   "execution_count": null,
   "id": "10a04f71-6977-4422-b83d-a5003e63acef",
   "metadata": {},
   "outputs": [],
   "source": []
  },
  {
   "cell_type": "code",
   "execution_count": 27,
   "id": "62e4b85f-5010-442d-ae39-295ee12a1a0a",
   "metadata": {},
   "outputs": [
    {
     "data": {
      "text/plain": [
       "Account             0\n",
       "Coin                0\n",
       "Execution Price     0\n",
       "Size Tokens         0\n",
       "Size USD            0\n",
       "Side                0\n",
       "Timestamp IST       0\n",
       "Start Position      0\n",
       "Direction           0\n",
       "Closed PnL          0\n",
       "Transaction Hash    0\n",
       "Order ID            0\n",
       "Crossed             0\n",
       "Fee                 0\n",
       "Trade ID            0\n",
       "Timestamp           0\n",
       "dtype: int64"
      ]
     },
     "execution_count": 27,
     "metadata": {},
     "output_type": "execute_result"
    }
   ],
   "source": [
    "df.isnull().sum()*1"
   ]
  },
  {
   "cell_type": "code",
   "execution_count": 6,
   "id": "b33e6f04-01ee-40e3-a334-b59b1c79a994",
   "metadata": {},
   "outputs": [
    {
     "data": {
      "text/html": [
       "<div>\n",
       "<style scoped>\n",
       "    .dataframe tbody tr th:only-of-type {\n",
       "        vertical-align: middle;\n",
       "    }\n",
       "\n",
       "    .dataframe tbody tr th {\n",
       "        vertical-align: top;\n",
       "    }\n",
       "\n",
       "    .dataframe thead th {\n",
       "        text-align: right;\n",
       "    }\n",
       "</style>\n",
       "<table border=\"1\" class=\"dataframe\">\n",
       "  <thead>\n",
       "    <tr style=\"text-align: right;\">\n",
       "      <th></th>\n",
       "      <th>Execution Price</th>\n",
       "      <th>Size Tokens</th>\n",
       "      <th>Size USD</th>\n",
       "      <th>Start Position</th>\n",
       "      <th>Closed PnL</th>\n",
       "      <th>Order ID</th>\n",
       "      <th>Fee</th>\n",
       "      <th>Trade ID</th>\n",
       "      <th>Timestamp</th>\n",
       "    </tr>\n",
       "  </thead>\n",
       "  <tbody>\n",
       "    <tr>\n",
       "      <th>count</th>\n",
       "      <td>211224.000000</td>\n",
       "      <td>2.112240e+05</td>\n",
       "      <td>2.112240e+05</td>\n",
       "      <td>2.112240e+05</td>\n",
       "      <td>211224.000000</td>\n",
       "      <td>2.112240e+05</td>\n",
       "      <td>211224.000000</td>\n",
       "      <td>2.112240e+05</td>\n",
       "      <td>2.112240e+05</td>\n",
       "    </tr>\n",
       "    <tr>\n",
       "      <th>mean</th>\n",
       "      <td>11414.723350</td>\n",
       "      <td>4.623365e+03</td>\n",
       "      <td>5.639451e+03</td>\n",
       "      <td>-2.994625e+04</td>\n",
       "      <td>48.749001</td>\n",
       "      <td>6.965388e+10</td>\n",
       "      <td>1.163967</td>\n",
       "      <td>5.628549e+14</td>\n",
       "      <td>1.737744e+12</td>\n",
       "    </tr>\n",
       "    <tr>\n",
       "      <th>std</th>\n",
       "      <td>29447.654868</td>\n",
       "      <td>1.042729e+05</td>\n",
       "      <td>3.657514e+04</td>\n",
       "      <td>6.738074e+05</td>\n",
       "      <td>919.164828</td>\n",
       "      <td>1.835753e+10</td>\n",
       "      <td>6.758854</td>\n",
       "      <td>3.257565e+14</td>\n",
       "      <td>8.689920e+09</td>\n",
       "    </tr>\n",
       "    <tr>\n",
       "      <th>min</th>\n",
       "      <td>0.000005</td>\n",
       "      <td>8.740000e-07</td>\n",
       "      <td>0.000000e+00</td>\n",
       "      <td>-1.433463e+07</td>\n",
       "      <td>-117990.104100</td>\n",
       "      <td>1.732711e+08</td>\n",
       "      <td>-1.175712</td>\n",
       "      <td>0.000000e+00</td>\n",
       "      <td>1.680000e+12</td>\n",
       "    </tr>\n",
       "    <tr>\n",
       "      <th>25%</th>\n",
       "      <td>4.854700</td>\n",
       "      <td>2.940000e+00</td>\n",
       "      <td>1.937900e+02</td>\n",
       "      <td>-3.762311e+02</td>\n",
       "      <td>0.000000</td>\n",
       "      <td>5.983853e+10</td>\n",
       "      <td>0.016121</td>\n",
       "      <td>2.810000e+14</td>\n",
       "      <td>1.740000e+12</td>\n",
       "    </tr>\n",
       "    <tr>\n",
       "      <th>50%</th>\n",
       "      <td>18.280000</td>\n",
       "      <td>3.200000e+01</td>\n",
       "      <td>5.970450e+02</td>\n",
       "      <td>8.472793e+01</td>\n",
       "      <td>0.000000</td>\n",
       "      <td>7.442939e+10</td>\n",
       "      <td>0.089578</td>\n",
       "      <td>5.620000e+14</td>\n",
       "      <td>1.740000e+12</td>\n",
       "    </tr>\n",
       "    <tr>\n",
       "      <th>75%</th>\n",
       "      <td>101.580000</td>\n",
       "      <td>1.879025e+02</td>\n",
       "      <td>2.058960e+03</td>\n",
       "      <td>9.337278e+03</td>\n",
       "      <td>5.792797</td>\n",
       "      <td>8.335543e+10</td>\n",
       "      <td>0.393811</td>\n",
       "      <td>8.460000e+14</td>\n",
       "      <td>1.740000e+12</td>\n",
       "    </tr>\n",
       "    <tr>\n",
       "      <th>max</th>\n",
       "      <td>109004.000000</td>\n",
       "      <td>1.582244e+07</td>\n",
       "      <td>3.921431e+06</td>\n",
       "      <td>3.050948e+07</td>\n",
       "      <td>135329.090100</td>\n",
       "      <td>9.014923e+10</td>\n",
       "      <td>837.471593</td>\n",
       "      <td>1.130000e+15</td>\n",
       "      <td>1.750000e+12</td>\n",
       "    </tr>\n",
       "  </tbody>\n",
       "</table>\n",
       "</div>"
      ],
      "text/plain": [
       "       Execution Price   Size Tokens      Size USD  Start Position  \\\n",
       "count    211224.000000  2.112240e+05  2.112240e+05    2.112240e+05   \n",
       "mean      11414.723350  4.623365e+03  5.639451e+03   -2.994625e+04   \n",
       "std       29447.654868  1.042729e+05  3.657514e+04    6.738074e+05   \n",
       "min           0.000005  8.740000e-07  0.000000e+00   -1.433463e+07   \n",
       "25%           4.854700  2.940000e+00  1.937900e+02   -3.762311e+02   \n",
       "50%          18.280000  3.200000e+01  5.970450e+02    8.472793e+01   \n",
       "75%         101.580000  1.879025e+02  2.058960e+03    9.337278e+03   \n",
       "max      109004.000000  1.582244e+07  3.921431e+06    3.050948e+07   \n",
       "\n",
       "          Closed PnL      Order ID            Fee      Trade ID     Timestamp  \n",
       "count  211224.000000  2.112240e+05  211224.000000  2.112240e+05  2.112240e+05  \n",
       "mean       48.749001  6.965388e+10       1.163967  5.628549e+14  1.737744e+12  \n",
       "std       919.164828  1.835753e+10       6.758854  3.257565e+14  8.689920e+09  \n",
       "min   -117990.104100  1.732711e+08      -1.175712  0.000000e+00  1.680000e+12  \n",
       "25%         0.000000  5.983853e+10       0.016121  2.810000e+14  1.740000e+12  \n",
       "50%         0.000000  7.442939e+10       0.089578  5.620000e+14  1.740000e+12  \n",
       "75%         5.792797  8.335543e+10       0.393811  8.460000e+14  1.740000e+12  \n",
       "max    135329.090100  9.014923e+10     837.471593  1.130000e+15  1.750000e+12  "
      ]
     },
     "execution_count": 6,
     "metadata": {},
     "output_type": "execute_result"
    }
   ],
   "source": [
    "df.describe()"
   ]
  },
  {
   "cell_type": "code",
   "execution_count": 32,
   "id": "01127eda-63ed-464c-9886-de3b70bb456d",
   "metadata": {},
   "outputs": [
    {
     "data": {
      "text/plain": [
       "Index(['Account', 'Coin', 'Execution Price', 'Size Tokens', 'Size USD', 'Side',\n",
       "       'Timestamp IST', 'Start Position', 'Direction', 'Closed PnL',\n",
       "       'Transaction Hash', 'Order ID', 'Crossed', 'Fee', 'Trade ID',\n",
       "       'Timestamp'],\n",
       "      dtype='object')"
      ]
     },
     "execution_count": 32,
     "metadata": {},
     "output_type": "execute_result"
    }
   ],
   "source": [
    "df.columns"
   ]
  },
  {
   "cell_type": "code",
   "execution_count": 33,
   "id": "065ba709-cbf6-4219-b40e-ade3abfee850",
   "metadata": {},
   "outputs": [
    {
     "data": {
      "text/plain": [
       "array([['0xae5eacaf9c6b9111fd53034a602c192a04e082ed', '@107', 7.9769,\n",
       "        ..., 0.34540448, 895000000000000.0, 1730000000000.0],\n",
       "       ['0xae5eacaf9c6b9111fd53034a602c192a04e082ed', '@107', 7.98, ...,\n",
       "        0.0056, 443000000000000.0, 1730000000000.0],\n",
       "       ['0xae5eacaf9c6b9111fd53034a602c192a04e082ed', '@107', 7.9855,\n",
       "        ..., 0.0504314, 660000000000000.0, 1730000000000.0],\n",
       "       ...,\n",
       "       ['0x72743ae2822edd658c0c50608fd7c5c501b2afbd', 'FARTCOIN', 1.101,\n",
       "        ..., 0.046616, 693000000000000.0, 1750000000000.0],\n",
       "       ['0x72743ae2822edd658c0c50608fd7c5c501b2afbd', 'FARTCOIN', 1.101,\n",
       "        ..., 0.396337, 418000000000000.0, 1750000000000.0],\n",
       "       ['0x72743ae2822edd658c0c50608fd7c5c501b2afbd', 'FARTCOIN', 1.101,\n",
       "        ..., 0.111982, 327000000000000.0, 1750000000000.0]], dtype=object)"
      ]
     },
     "execution_count": 33,
     "metadata": {},
     "output_type": "execute_result"
    }
   ],
   "source": [
    "df.values"
   ]
  },
  {
   "cell_type": "markdown",
   "id": "1389ddd1-edf3-4794-8980-788018494c27",
   "metadata": {},
   "source": [
    "# 3. VISUALIZATION"
   ]
  },
  {
   "cell_type": "code",
   "execution_count": 3,
   "id": "1b0a5dd4-8aff-4406-a966-b59478e448ed",
   "metadata": {},
   "outputs": [
    {
     "data": {
      "image/png": "[encoded data removed]",
      "text/plain": [
       "<Figure size 800x500 with 1 Axes>"
      ]
     },
     "metadata": {},
     "output_type": "display_data"
    }
   ],
   "source": [
    "\n",
    "# Execution price varchi histogram:\n",
    "plt.figure(figsize=(8,5))\n",
    "plt.hist(df['Execution Price'], bins=30, color='skyblue', edgecolor='black')\n",
    "plt.xlabel('Execution Price')\n",
    "plt.ylabel('Frequency')\n",
    "plt.title('Trade Execution Price Distribution')\n",
    "plt.show()\n",
    "\n",
    "\n",
    "\n",
    "\n",
    "\n",
    "\n",
    "\n"
   ]
  },
  {
   "cell_type": "code",
   "execution_count": null,
   "id": "cb9c0ffe-f6f1-4948-b46d-0d901cd0c6c8",
   "metadata": {},
   "outputs": [],
   "source": [
    "sns.pairplot(df)\n",
    "plt.title('All Plots')\n",
    "plt.show()"
   ]
  },
  {
   "cell_type": "code",
   "execution_count": null,
   "id": "31498035-c7de-4b76-8893-9e57ea4122b7",
   "metadata": {},
   "outputs": [],
   "source": []
  },
  {
   "cell_type": "code",
   "execution_count": 4,
   "id": "d630ec76-068e-4b5e-806e-0ae98dba7827",
   "metadata": {},
   "outputs": [
    {
     "data": {
      "image/png": "[encoded data removed]",
      "text/plain": [
       "<Figure size 800x500 with 1 Axes>"
      ]
     },
     "metadata": {},
     "output_type": "display_data"
    }
   ],
   "source": [
    "# Closed PnL chi distribution (histogram):\n",
    "plt.figure(figsize=(8,5))\n",
    "plt.hist(df['Closed PnL'], bins=30, color='orange', edgecolor='black')\n",
    "plt.xlabel('Closed PnL')\n",
    "plt.ylabel('Frequency')\n",
    "plt.title('Closed PnL Distribution')\n",
    "plt.show()"
   ]
  },
  {
   "cell_type": "code",
   "execution_count": null,
   "id": "bb6f598e-2ed5-48ec-a629-e8a023a9e6a4",
   "metadata": {},
   "outputs": [],
   "source": [
    "# Symbol pratyek trade chi count (barplot):\n",
    "plt.figure(figsize=(10,5))\n",
    "df['Order ID'].value_counts().plot.bar(color='purple')\n",
    "plt.xlabel('Symbol')\n",
    "plt.ylabel('Number of Trades')\n",
    "plt.title('Trades per Symbol')\n",
    "plt.show()"
   ]
  },
  {
   "cell_type": "code",
   "execution_count": null,
   "id": "997d7f9e-d093-4ae4-bec8-086be8b230ab",
   "metadata": {},
   "outputs": [],
   "source": [
    "# Side(by buy/sell) cha pie chart:\n",
    "plt.figure(figsize=(6,6))\n",
    "df['Side'].value_counts().plot.pie(autopct='%1.1f%%', colors=['green','red'])\n",
    "plt.title('Trade Sides (Buy/Sell)')\n",
    "plt.ylabel('')\n",
    "plt.show()"
   ]
  },
  {
   "cell_type": "code",
   "execution_count": null,
   "id": "cb3bc485-1e18-4b71-a18b-00bd6d52b5e7",
   "metadata": {},
   "outputs": [],
   "source": [
    "# 6. Time series: Execution price over time (Sample)\n",
    "plt.figure(figsize=(14,6))\n",
    "plt.plot(pd.to_datetime(df['Timestamp IST']), df['Execution Price'], marker='o', linestyle='.')\n",
    "plt.xlabel('Time')\n",
    "plt.ylabel('Execution Price')\n",
    "plt.title('Execution Price over Time')\n",
    "plt.show()"
   ]
  },
  {
   "cell_type": "code",
   "execution_count": 24,
   "id": "80f7047f-260f-4f96-a583-4c9fa526af79",
   "metadata": {},
   "outputs": [
    {
     "name": "stdout",
     "output_type": "stream",
     "text": [
      "Total trades: 211224\n"
     ]
    }
   ],
   "source": [
    "\n",
    "# Total trades count\n",
    "total_trades = len(df)\n",
    "print(f\"Total trades: {total_trades}\")\n"
   ]
  },
  {
   "cell_type": "code",
   "execution_count": 9,
   "id": "205bb77e-ac3e-45fd-bb86-d36906728b2d",
   "metadata": {},
   "outputs": [
    {
     "name": "stdout",
     "output_type": "stream",
     "text": [
      "Unique accounts: 32\n"
     ]
    }
   ],
   "source": [
    "# Unique accounts\n",
    "unique_accounts = df['Account'].nunique()\n",
    "print(f\"Unique accounts: {unique_accounts}\")"
   ]
  },
  {
   "cell_type": "code",
   "execution_count": 18,
   "id": "c463b189-6e01-43dc-b018-1f73166e698e",
   "metadata": {},
   "outputs": [
    {
     "name": "stdout",
     "output_type": "stream",
     "text": [
      "Unique symbols traded USD: 118493\n"
     ]
    }
   ],
   "source": [
    "\n",
    "# Unique symbols\n",
    "unique_symbols = df['Size USD'].nunique()\n",
    "print(f\"Unique symbols traded USD: {unique_symbols}\")"
   ]
  },
  {
   "cell_type": "code",
   "execution_count": 14,
   "id": "68663bad-44c3-4f1d-80c2-4f81bc71a858",
   "metadata": {},
   "outputs": [
    {
     "name": "stdout",
     "output_type": "stream",
     "text": [
      "Average execution price: 11414.72\n"
     ]
    }
   ],
   "source": [
    "# Average execution price (overall)\n",
    "avg_execution_price = df['Execution Price'].mean()\n",
    "print(f\"Average execution price: {avg_execution_price:.2f}\")"
   ]
  },
  {
   "cell_type": "code",
   "execution_count": 16,
   "id": "c2cec6c2-bbbb-4429-a737-16db2c28e317",
   "metadata": {},
   "outputs": [
    {
     "name": "stdout",
     "output_type": "stream",
     "text": [
      "Average trade size: 4623.36\n"
     ]
    }
   ],
   "source": [
    "\n",
    "# Average trade size\n",
    "avg_trade_size = df['Size Tokens'].mean()\n",
    "print(f\"Average trade size: {avg_trade_size:.2f}\")"
   ]
  },
  {
   "cell_type": "code",
   "execution_count": 20,
   "id": "8a4bcc04-565c-44d9-8cf8-ffa5fa41cac5",
   "metadata": {},
   "outputs": [
    {
     "name": "stdout",
     "output_type": "stream",
     "text": [
      "Buy trades: 0\n",
      "Sell trades: 0\n"
     ]
    }
   ],
   "source": [
    "# Buy vs Sell trades count\n",
    "buy_trades = df[df['Side'] == 'buy'].shape[0]\n",
    "sell_trades = df[df['Side'] == 'sell'].shape[0]\n",
    "print(f\"Buy trades: {buy_trades}\")\n",
    "print(f\"Sell trades: {sell_trades}\")"
   ]
  },
  {
   "cell_type": "code",
   "execution_count": 22,
   "id": "419d27d7-23a6-4d28-bc8c-d594a8573630",
   "metadata": {},
   "outputs": [
    {
     "name": "stdout",
     "output_type": "stream",
     "text": [
      "Average closed PnL: 48.75\n"
     ]
    }
   ],
   "source": [
    "# Average closed PnL\n",
    "avg_closed_pnl = df['Closed PnL'].mean()\n",
    "print(f\"Average closed PnL: {avg_closed_pnl:.2f}\")"
   ]
  },
  {
   "cell_type": "code",
   "execution_count": 21,
   "id": "bf3a65b8-a76d-45fa-b797-b7d15e7dc698",
   "metadata": {},
   "outputs": [
    {
     "name": "stdout",
     "output_type": "stream",
     "text": [
      "Total closed PnL: 10296958.94\n"
     ]
    }
   ],
   "source": [
    "# Total closed PnL\n",
    "total_closed_pnl = df['Closed PnL'].sum()\n",
    "print(f\"Total closed PnL: {total_closed_pnl:.2f}\")"
   ]
  },
  {
   "cell_type": "code",
   "execution_count": 23,
   "id": "5804bd2e-e20c-4c6a-b858-4e6b5d97ada2",
   "metadata": {},
   "outputs": [
    {
     "name": "stdout",
     "output_type": "stream",
     "text": [
      "Max closed PnL: 135329.09\n",
      "Min closed PnL: -117990.10\n"
     ]
    }
   ],
   "source": [
    "# Max and Min closed PnL\n",
    "max_closed_pnl = df['Closed PnL'].max()\n",
    "min_closed_pnl = df['Closed PnL'].min()\n",
    "print(f\"Max closed PnL: {max_closed_pnl:.2f}\")\n",
    "print(f\"Min closed PnL: {min_closed_pnl:.2f}\")"
   ]
  },
  {
   "cell_type": "code",
   "execution_count": 25,
   "id": "e30a1ef3-fce8-47b5-b852-840f2b3993be",
   "metadata": {},
   "outputs": [
    {
     "name": "stdout",
     "output_type": "stream",
     "text": [
      "Average FEE: 1.16\n"
     ]
    }
   ],
   "source": [
    "# Average leverage used\n",
    "avg_leverage = df['Fee'].mean()\n",
    "print(f\"Average FEE: {avg_leverage:.2f}\")"
   ]
  },
  {
   "cell_type": "code",
   "execution_count": 26,
   "id": "841ccf6e-2cb0-42ac-bad6-b2b858a638a2",
   "metadata": {},
   "outputs": [
    {
     "name": "stdout",
     "output_type": "stream",
     "text": [
      "Maximum FEE: 837.47\n"
     ]
    }
   ],
   "source": [
    "# Maximum leverage used\n",
    "max_leverage = df['Fee'].max()\n",
    "print(f\"Maximum FEE: {max_leverage:.2f}\")"
   ]
  },
  {
   "cell_type": "code",
   "execution_count": 31,
   "id": "be3f5248-76e3-4c6c-b714-baa4529c8010",
   "metadata": {},
   "outputs": [
    {
     "name": "stdout",
     "output_type": "stream",
     "text": [
      "\n",
      "Average closed PnL per symbol in start position:\n",
      "Start Position\n",
      "-14334629.0     8.136125\n",
      "-14269540.0    23.379000\n",
      "-14082508.0    20.985829\n",
      "-13971298.0   -23.384873\n",
      "-13943529.0    20.985829\n",
      "                 ...    \n",
      " 14687044.0     0.000000\n",
      " 19432268.0     0.000000\n",
      " 23705396.0     0.000000\n",
      " 23737865.0     0.000000\n",
      " 30509482.0     0.000000\n",
      "Name: Closed PnL, Length: 196923, dtype: float64\n"
     ]
    }
   ],
   "source": [
    "# Average closed PnL per symbol\n",
    "avg_pnl_per_symbol = df.groupby('Start Position')['Closed PnL'].mean()\n",
    "print(\"\\nAverage closed PnL per symbol in start position:\")\n",
    "print(avg_pnl_per_symbol)"
   ]
  },
  {
   "cell_type": "code",
   "execution_count": 28,
   "id": "a117cbe1-ca76-433c-a8f3-41fe2a9a7c25",
   "metadata": {},
   "outputs": [
    {
     "name": "stdout",
     "output_type": "stream",
     "text": [
      "\n",
      "Number of trades per symbol:\n",
      "Closed PnL\n",
      " 0.000000      106816\n",
      " 0.146908          80\n",
      "-1.566400          71\n",
      " 9.903600          67\n",
      " 88.459120         62\n",
      "                ...  \n",
      " 139.612500         1\n",
      " 154.735326         1\n",
      " 19.004300          1\n",
      " 231.572985         1\n",
      "-53.906300          1\n",
      "Name: count, Length: 90720, dtype: int64\n"
     ]
    }
   ],
   "source": [
    "# Number of trades per symbol\n",
    "trades_per_symbol = df['Closed PnL'].value_counts()\n",
    "print(\"\\nNumber of trades per symbol:\")\n",
    "print(trades_per_symbol)"
   ]
  },
  {
   "cell_type": "code",
   "execution_count": null,
   "id": "06b2fa01-f312-4f20-a58c-0c424c3b765a",
   "metadata": {},
   "outputs": [],
   "source": [
    "print(\"\\n\" + \"=\"*60)\n",
    "print(\"ANALYSIS COMPLETE! All visualizations display is complete.\")\n",
    "print(\"=\"*60)"
   ]
  },
  {
   "cell_type": "code",
   "execution_count": null,
   "id": "f76f59b6-4cd8-49a9-91fd-8c962c1ed238",
   "metadata": {},
   "outputs": [],
   "source": []
  }
 ],
 "metadata": {
  "kernelspec": {
   "display_name": "Python [conda env:base] *",
   "language": "python",
   "name": "conda-base-py"
  },
  "language_info": {
   "codemirror_mode": {
    "name": "ipython",
    "version": 3
   },
   "file_extension": ".py",
   "mimetype": "text/x-python",
   "name": "python",
   "nbconvert_exporter": "python",
   "pygments_lexer": "ipython3",
   "version": "3.12.7"
  }
 },
 "nbformat": 4,
 "nbformat_minor": 5
}
